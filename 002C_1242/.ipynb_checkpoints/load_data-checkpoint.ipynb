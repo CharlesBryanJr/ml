{
 "cells": [
  {
   "cell_type": "code",
   "execution_count": null,
   "id": "f1d408aa-3114-422e-9bf4-e1c780f13869",
   "metadata": {},
   "outputs": [],
   "source": []
  },
  {
   "cell_type": "code",
   "execution_count": null,
   "id": "811ec340-9a6c-4f02-8f18-32ac6ccd1bc5",
   "metadata": {},
   "outputs": [],
   "source": [
    "# load the Titanic dataset\n",
    "import pandas as pd\n",
    "import numpy as np\n",
    "\n",
    "print('Pandas:', pd.__version__)\n",
    "print('Numpy:',np.__version__)\n",
    "\n",
    "df = pd.read_csv('')\n",
    "\n",
    "df.head()"
   ]
  }
 ],
 "metadata": {
  "kernelspec": {
   "display_name": "Python (002C_1242)",
   "language": "python",
   "name": "002c_1242"
  },
  "language_info": {
   "codemirror_mode": {
    "name": "ipython",
    "version": 3
   },
   "file_extension": ".py",
   "mimetype": "text/x-python",
   "name": "python",
   "nbconvert_exporter": "python",
   "pygments_lexer": "ipython3",
   "version": "3.11.7"
  }
 },
 "nbformat": 4,
 "nbformat_minor": 5
}
