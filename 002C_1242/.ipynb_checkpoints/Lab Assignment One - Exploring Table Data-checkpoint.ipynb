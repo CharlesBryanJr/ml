{
 "cells": [
  {
   "cell_type": "markdown",
   "id": "f7528f94-48e1-4abf-88cd-4de12252c94e",
   "metadata": {},
   "source": [
    "# Lab Assignment One - Exploring Table Data"
   ]
  },
  {
   "cell_type": "markdown",
   "id": "7e34316d-434a-4e3a-980f-79b053cac460",
   "metadata": {},
   "source": [
    "**Business Understanding (1.5 points total)**\n",
    "\n",
    "- **In your own words, give an overview of the dataset.**\n",
    "    - The Census Income dataset includes 48,842 records with 14 features. It contains both categorical and continuous variables. It is targeted at individuals over 16 with an adjusted gross income over 100 and working hours, this dataset also contains missing values. The data focuses on a subset of the population most relevant for the study of income levels.\n",
    "- **Describe the purpose of the data set you selected (i.e., why and how was this data collected in the first place?).**\n",
    "    - I seleceted this dataset because I am interested in Socio-economic Analysis. Given this dataset provides a rich source of socio-economic information, it is ideal for examining income distribution and factors influencing economic status.\n",
    "    - The data focuses on a subset of the population most relevant for the study of income levels.\n",
    "- **What is the prediction task for your data and why are other third parties interested in the result**\n",
    "    - This dataset was collected to analyze and predict the income level of individuals based on various demographic and employment factors. The primary prediction task is to determine whether an individual earns more than $50,000 per year. Third parties, including government agencies, policymakers, and businesses, are interested in this dataset for shaping welfare programs, tax policies, studying market trends, and consumer behavior\n",
    "- **Once you begin modeling, how well would your prediction algorithm need to perform to be considered useful to these third parties? Be specific and use your own words to describe the aspects of the data.**\n",
    "    - For this prediction algorithm to be useful to third parties, it needs to achieve a high level of accuracy in classifying individuals into the correct income categories. Specific metrics such as precision, recall, and F1-score should be considered. Also, model interpretability can add value for third parties seeking to understand the underlying factors influencing income levels."
   ]
  },
  {
   "cell_type": "markdown",
   "id": "d541d103-ad84-4e39-9f9d-f99495643761",
   "metadata": {},
   "source": [
    "**Data Understanding (3 points total)**\n",
    "\n",
    "- **[1.5 points]**\n",
    "    - **Load the dataset and appropriately define data types.**\n",
    "        - `Integer` — for numerical values\n",
    "        - `Categorical` — for data representing categories or groups\n",
    "        - `Binary` — for the target variable “income”\n",
    "    - **Discuss the attributes collected in the dataset / What data type should be used to represent each data attribute?**\n",
    "        1. **Age**\n",
    "            - Description: Years since birth\n",
    "            - Data Type: Integer\n",
    "        2. **Workclass**\n",
    "            - Description: Classification of employment sector - includes Private, Self-emp-not-inc, Self-emp-inc, Federal-gov, Local-gov, State-gov, Without-pay, Never-worked.\n",
    "            - Data Type: Categorical\n",
    "        3. **Final Weight (fnlwgt)**\n",
    "            - Description: Weight assigned by the Census Bureau, reflecting the number of people the observation represents.\n",
    "            - Data Type: Integer\n",
    "        4. **Education**\n",
    "            - Description: Highest level of education achieved - includes Bachelors, Some-college, 11th, HS-grad, Prof-school, Assoc-acdm, Assoc-voc, 9th, 7th-8th, 12th, Masters, 1st-4th, 10th, Doctorate, 5th-6th, Preschool.\n",
    "            - Data Type: Categorical\n",
    "        5. **Education Number (education-num)**\n",
    "            - Description: Number of years of education completed.\n",
    "            - Data Type: Integer\n",
    "        6. **Marital Status**\n",
    "            - Description: Marital status of the individual - includes Married-civ-spouse, Divorced, Never-married, Separated, Widowed, Married-spouse-absent, Married-AF-spouse.\n",
    "            - Data Type: Categorical\n",
    "        7. **Occupation**\n",
    "            - Description: Type of occupation - includes Tech-support, Craft-repair, Other-service, Sales, Exec-managerial, Prof-specialty, Handlers-cleaners, Machine-op-inspct, Adm-clerical, Farming-fishing, Transport-moving, Priv-house-serv, Protective-serv, Armed-Forces.\n",
    "            - Data Type: Categorical\n",
    "        8. **Relationship**\n",
    "            - Description: Role of the individual within a family - includes Wife, Own-child, Husband, Not-in-family, Other-relative, Unmarried.\n",
    "            - Data Type: Categorical\n",
    "        9. **Race**\n",
    "            - Description: Race of the individual - includes White, Asian-Pac-Islander, Amer-Indian-Eskimo, Other, Black.\n",
    "            - Data Type: Categorical\n",
    "        10. **Sex**\n",
    "            - Description: Biological sex of the individual - Female or Male.\n",
    "            - Data Type: Binary\n",
    "        11. **Capital Gain**\n",
    "            - Description: Income from investment sources, apart from wages/salary.\n",
    "            - Data Type: Integer\n",
    "        12. **Capital Loss**\n",
    "            - Description: Losses from investment sources.\n",
    "            - Data Type: Integer\n",
    "        13. **Hours per Week**\n",
    "            - Description: Number of hours worked per week.\n",
    "            - Data Type: Integer\n",
    "        14. **Native Country**\n",
    "            - Description: Country of origin of the individual - includes United-States, Cambodia, England, Puerto-Rico, etc.\n",
    "            - Data Type: Categorical\n",
    "        15. **Income**\n",
    "            - Description: Indicates if income exceeds $50K/year - categories are >50K and <=50K.\n",
    "            - Data Type: Binary\n",
    "- **[1.5 points]**\n",
    "    - **Verify data quality:**\n",
    "    - **Explain any missing values or duplicate data.**\n",
    "        - Using the “print(census_income.variables)” line of code.\n",
    "        - I was able to identify, workclass, occupation and native-country as containing missing values in this dataset. Generally, missing values in this dataset feature can occur due to entry errors or refusal to disclose. But specifically, for each —\n",
    "            - **Workclass**: Missing values may be due to unemployment or informal employment.\n",
    "            - **Occupation**: Gaps could arise from unemployment, retirement or non-traditional occupations.\n",
    "            - **Native-country**: Missing data might result from privacy concerns or uncertain origin.\n",
    "    - **Visualize entries that are missing/complete for different attributes.**\n",
    "    - **Are those mistakes? Why do these quality issues exist in the data?**\n",
    "    - **How do you deal with these problems?**\n",
    "    - **Give justifications for your methods (elimination or imputation).**"
   ]
  },
  {
   "cell_type": "markdown",
   "id": "76ef8abd-f1a6-4934-b2ac-337468729199",
   "metadata": {},
   "source": [
    "- Data Visualization (**4.5 points total**)\n",
    "    - [**2 points**]\n",
    "        - Visualize basic feature distributions.\n",
    "        - That is, plot the dynamic range and exploratory distribution plots (like boxplots, histograms, kernel density estimation) to better understand the data.\n",
    "        - Describe anything meaningful or potentially useful you discover from these visualizations.\n",
    "        - These may also help to understand what data is missing or needs imputation. **Note**: You can also use data from other sources to bolster visualizations.\n",
    "        - Visualize at least five plots, at least one categorical.\n",
    "    - [**2.5 points**]\n",
    "        - Ask three interesting questions that are relevant to your dataset and explore visuals that help answer these questions.\n",
    "        - Use whichever visualization method is appropriate for your data.\n",
    "        - **Important:** Interpret the implications for each visualization."
   ]
  },
  {
   "cell_type": "markdown",
   "id": "495119c7-91fa-4859-a874-180f84c18dc5",
   "metadata": {},
   "source": [
    "- **Exceptional Work (1 point total)**\n",
    "  - **[0.4 points]**\n",
    "    - The overall quality of the report as a coherent, useful, and polished product will be reflected here.\n",
    "    - Criteria:\n",
    "      - Does it make sense overall?\n",
    "      - Do your visualizations answer the questions you put forth in your business analysis?\n",
    "      - Do you properly and consistently cite sources and annotate changes made to base code?\n",
    "      - Do you provide specific reasons for your assumptions?\n",
    "      - Do subsequent questions follow naturally from initial exploration?\n",
    "\n",
    "    - **[0.6 Points] Additional analysis:**\n",
    "      - **5000 level students**: \n",
    "        - You have free rein to provide any additional analyses.\n",
    "      - **7000 level students**: \n",
    "        - Implement dimensionality reduction using uniform manifold approximation and projection (UMAP), then visualize and interpret the results.\n",
    "      - Explanation of UMAP dimensionality reduction methods:\n",
    "        - You may be interested in the following information:\n",
    "          - [UMAP on GitHub](https://github.com/lmcinnes/umap)\n",
    "          - [Understanding UMAP](https://pair-code.github.io/understanding-umap/)\n"
   ]
  },
  {
   "cell_type": "code",
   "execution_count": null,
   "id": "46319187-abab-4242-a3ec-1ba8e9bffd65",
   "metadata": {},
   "outputs": [],
   "source": [
    "import pandas as pd\n",
    "import numpy as np\n",
    "import matplotlib.pyplot as plt\n",
    "import seaborn as sns\n",
    "import missingno as msno\n",
    "\n",
    "print(f\"Pandas version: {pd.__version__}\")\n",
    "print(f\"NumPy version: {np.__version__}\")\n",
    "print(f\"Matplotlib version: {plt.matplotlib.__version__}\")\n",
    "print(f\"Seaborn version: {sns.__version__}\")\n",
    "print(f\"Missingno version: {msno.__version__}\")"
   ]
  },
  {
   "cell_type": "code",
   "execution_count": null,
   "id": "5afc2f24-1aee-44b3-b0b2-d0d099766345",
   "metadata": {},
   "outputs": [],
   "source": [
    "from ucimlrepo import fetch_ucirepo, list_available_datasets\n",
    "\n",
    "# import dataset\n",
    "census_income = fetch_ucirepo(id=20)\n",
    "\n",
    "# access data\n",
    "X = census_income.data.features\n",
    "y = census_income.data.targets\n",
    "\n",
    "# access metadata\n",
    "print(census_income.metadata.uci_id)\n",
    "print(census_income.metadata.num_instances)\n",
    "print(census_income.metadata.additional_info.summary)\n",
    "\n",
    "# access variable info in tabular format\n",
    "print(census_income.variables)"
   ]
  },
  {
   "cell_type": "code",
   "execution_count": null,
   "id": "adf1ed19-ee16-47eb-9f86-1d9e23b38a96",
   "metadata": {},
   "outputs": [],
   "source": [
    "df = pd.DataFrame(X, columns=adult.feature_names)\n",
    "df['income'] = Y\n",
    "df.head()"
   ]
  },
  {
   "cell_type": "code",
   "execution_count": null,
   "id": "0c609970-138a-4917-8be6-4f15af9a99dc",
   "metadata": {},
   "outputs": [],
   "source": [
    "df.describe()"
   ]
  },
  {
   "cell_type": "code",
   "execution_count": null,
   "id": "7c1d076d-6122-4300-ae87-f842eddbccd4",
   "metadata": {},
   "outputs": [],
   "source": []
  },
  {
   "cell_type": "code",
   "execution_count": null,
   "id": "47877b1f-dbc6-4828-a35a-fbf8205ef8eb",
   "metadata": {},
   "outputs": [],
   "source": []
  },
  {
   "cell_type": "code",
   "execution_count": null,
   "id": "dd38d9d2-2a1b-420c-9e57-62641e1ab6af",
   "metadata": {},
   "outputs": [],
   "source": []
  }
 ],
 "metadata": {
  "kernelspec": {
   "display_name": "Python (002C_1242)",
   "language": "python",
   "name": "002c_1242"
  },
  "language_info": {
   "codemirror_mode": {
    "name": "ipython",
    "version": 3
   },
   "file_extension": ".py",
   "mimetype": "text/x-python",
   "name": "python",
   "nbconvert_exporter": "python",
   "pygments_lexer": "ipython3",
   "version": "3.11.7"
  }
 },
 "nbformat": 4,
 "nbformat_minor": 5
}
