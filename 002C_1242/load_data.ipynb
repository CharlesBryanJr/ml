{
 "cells": [
  {
   "cell_type": "code",
   "execution_count": null,
   "id": "f1d408aa-3114-422e-9bf4-e1c780f13869",
   "metadata": {},
   "outputs": [],
   "source": []
  },
  {
   "cell_type": "code",
   "execution_count": 1,
   "id": "811ec340-9a6c-4f02-8f18-32ac6ccd1bc5",
   "metadata": {},
   "outputs": [
    {
     "name": "stdout",
     "output_type": "stream",
     "text": [
      "Pandas: 2.1.4\n",
      "Numpy: 1.26.3\n"
     ]
    },
    {
     "data": {
      "text/html": [
       "<div>\n",
       "<style scoped>\n",
       "    .dataframe tbody tr th:only-of-type {\n",
       "        vertical-align: middle;\n",
       "    }\n",
       "\n",
       "    .dataframe tbody tr th {\n",
       "        vertical-align: top;\n",
       "    }\n",
       "\n",
       "    .dataframe thead th {\n",
       "        text-align: right;\n",
       "    }\n",
       "</style>\n",
       "<table border=\"1\" class=\"dataframe\">\n",
       "  <thead>\n",
       "    <tr style=\"text-align: right;\">\n",
       "      <th></th>\n",
       "      <th>created_at</th>\n",
       "      <th>weight</th>\n",
       "      <th>distance</th>\n",
       "      <th>origin_name</th>\n",
       "      <th>origin_city</th>\n",
       "      <th>origin_state</th>\n",
       "      <th>destination_name</th>\n",
       "      <th>destination_city</th>\n",
       "      <th>destination_state</th>\n",
       "      <th>status</th>\n",
       "      <th>carrier_charge</th>\n",
       "    </tr>\n",
       "  </thead>\n",
       "  <tbody>\n",
       "    <tr>\n",
       "      <th>0</th>\n",
       "      <td>49:20.3</td>\n",
       "      <td>105</td>\n",
       "      <td>1099</td>\n",
       "      <td>TE CONNECTIVITY CORPORATION</td>\n",
       "      <td>Tullahoma</td>\n",
       "      <td>TN</td>\n",
       "      <td>GXO Logistics / PKC Group</td>\n",
       "      <td>Del Rio</td>\n",
       "      <td>TX</td>\n",
       "      <td>Transferred</td>\n",
       "      <td>196.70</td>\n",
       "    </tr>\n",
       "    <tr>\n",
       "      <th>1</th>\n",
       "      <td>52:56.0</td>\n",
       "      <td>221</td>\n",
       "      <td>1099</td>\n",
       "      <td>TE CONNECTIVITY CORPORATION</td>\n",
       "      <td>Tullahoma</td>\n",
       "      <td>TN</td>\n",
       "      <td>GXO Logistics / PKC Group</td>\n",
       "      <td>Del Rio</td>\n",
       "      <td>TX</td>\n",
       "      <td>Transferred</td>\n",
       "      <td>196.70</td>\n",
       "    </tr>\n",
       "    <tr>\n",
       "      <th>2</th>\n",
       "      <td>56:32.8</td>\n",
       "      <td>63</td>\n",
       "      <td>1099</td>\n",
       "      <td>TE CONNECTIVITY CORPORATION</td>\n",
       "      <td>Tullahoma</td>\n",
       "      <td>TN</td>\n",
       "      <td>GXO Logistics / PKC Group</td>\n",
       "      <td>Del Rio</td>\n",
       "      <td>TX</td>\n",
       "      <td>Transferred</td>\n",
       "      <td>196.70</td>\n",
       "    </tr>\n",
       "    <tr>\n",
       "      <th>3</th>\n",
       "      <td>01:43.6</td>\n",
       "      <td>588</td>\n",
       "      <td>1423</td>\n",
       "      <td>ADVANCE DESIGN CONCEPTS INC</td>\n",
       "      <td>Pewaukee</td>\n",
       "      <td>WI</td>\n",
       "      <td>GXO Logistics / PKC Group</td>\n",
       "      <td>Del Rio</td>\n",
       "      <td>TX</td>\n",
       "      <td>Transferred</td>\n",
       "      <td>328.09</td>\n",
       "    </tr>\n",
       "    <tr>\n",
       "      <th>4</th>\n",
       "      <td>07:15.0</td>\n",
       "      <td>672</td>\n",
       "      <td>1373</td>\n",
       "      <td>MSSL</td>\n",
       "      <td>Portland</td>\n",
       "      <td>IN</td>\n",
       "      <td>GXO Logistics / PKC Group</td>\n",
       "      <td>Del Rio</td>\n",
       "      <td>TX</td>\n",
       "      <td>Transferred</td>\n",
       "      <td>397.04</td>\n",
       "    </tr>\n",
       "  </tbody>\n",
       "</table>\n",
       "</div>"
      ],
      "text/plain": [
       "  created_at  weight  distance                  origin_name origin_city  \\\n",
       "0    49:20.3     105      1099  TE CONNECTIVITY CORPORATION   Tullahoma   \n",
       "1    52:56.0     221      1099  TE CONNECTIVITY CORPORATION   Tullahoma   \n",
       "2    56:32.8      63      1099  TE CONNECTIVITY CORPORATION   Tullahoma   \n",
       "3    01:43.6     588      1423  ADVANCE DESIGN CONCEPTS INC    Pewaukee   \n",
       "4    07:15.0     672      1373                         MSSL    Portland   \n",
       "\n",
       "  origin_state           destination_name destination_city destination_state  \\\n",
       "0           TN  GXO Logistics / PKC Group          Del Rio                TX   \n",
       "1           TN  GXO Logistics / PKC Group          Del Rio                TX   \n",
       "2           TN  GXO Logistics / PKC Group          Del Rio                TX   \n",
       "3           WI  GXO Logistics / PKC Group          Del Rio                TX   \n",
       "4           IN  GXO Logistics / PKC Group          Del Rio                TX   \n",
       "\n",
       "        status  carrier_charge  \n",
       "0  Transferred          196.70  \n",
       "1  Transferred          196.70  \n",
       "2  Transferred          196.70  \n",
       "3  Transferred          328.09  \n",
       "4  Transferred          397.04  "
      ]
     },
     "execution_count": 1,
     "metadata": {},
     "output_type": "execute_result"
    }
   ],
   "source": [
    "import pandas as pd\n",
    "import numpy as np\n",
    "\n",
    "print('Pandas:', pd.__version__)\n",
    "print('Numpy:',np.__version__)\n",
    "\n",
    "df = pd.read_csv('/Users/charlesbryan/Desktop/Machine_Learning/002C_1242/load_data.csv')\n",
    "\n",
    "df.head()"
   ]
  },
  {
   "cell_type": "code",
   "execution_count": 2,
   "id": "8c90c1c1-2773-47d7-b442-0b08249b2da7",
   "metadata": {},
   "outputs": [
    {
     "name": "stdout",
     "output_type": "stream",
     "text": [
      "df.carrier_charge.sum() = 167714602.87000003\n"
     ]
    }
   ],
   "source": [
    "print(f'df.carrier_charge.sum() = {df.carrier_charge.sum()}')"
   ]
  },
  {
   "cell_type": "code",
   "execution_count": 3,
   "id": "b7fcaac1-88aa-4394-8692-35725cbe297d",
   "metadata": {},
   "outputs": [
    {
     "name": "stdout",
     "output_type": "stream",
     "text": [
      "matplotlib: 3.8.0\n"
     ]
    },
    {
     "ename": "ValueError",
     "evalue": "keyword grid_b is not recognized; valid keywords are ['size', 'width', 'color', 'tickdir', 'pad', 'labelsize', 'labelcolor', 'labelfontfamily', 'zorder', 'gridOn', 'tick1On', 'tick2On', 'label1On', 'label2On', 'length', 'direction', 'left', 'bottom', 'right', 'top', 'labelleft', 'labelbottom', 'labelright', 'labeltop', 'labelrotation', 'grid_agg_filter', 'grid_alpha', 'grid_animated', 'grid_antialiased', 'grid_clip_box', 'grid_clip_on', 'grid_clip_path', 'grid_color', 'grid_dash_capstyle', 'grid_dash_joinstyle', 'grid_dashes', 'grid_data', 'grid_drawstyle', 'grid_figure', 'grid_fillstyle', 'grid_gapcolor', 'grid_gid', 'grid_in_layout', 'grid_label', 'grid_linestyle', 'grid_linewidth', 'grid_marker', 'grid_markeredgecolor', 'grid_markeredgewidth', 'grid_markerfacecolor', 'grid_markerfacecoloralt', 'grid_markersize', 'grid_markevery', 'grid_mouseover', 'grid_path_effects', 'grid_picker', 'grid_pickradius', 'grid_rasterized', 'grid_sketch_params', 'grid_snap', 'grid_solid_capstyle', 'grid_solid_joinstyle', 'grid_transform', 'grid_url', 'grid_visible', 'grid_xdata', 'grid_ydata', 'grid_zorder', 'grid_aa', 'grid_c', 'grid_ds', 'grid_ls', 'grid_lw', 'grid_mec', 'grid_mew', 'grid_mfc', 'grid_mfcalt', 'grid_ms']",
     "output_type": "error",
     "traceback": [
      "\u001b[0;31m---------------------------------------------------------------------------\u001b[0m",
      "\u001b[0;31mValueError\u001b[0m                                Traceback (most recent call last)",
      "Cell \u001b[0;32mIn[3], line 13\u001b[0m\n\u001b[1;32m      9\u001b[0m \u001b[38;5;28;01mimport\u001b[39;00m \u001b[38;5;21;01mmissingno\u001b[39;00m \u001b[38;5;28;01mas\u001b[39;00m \u001b[38;5;21;01mmn\u001b[39;00m\n\u001b[1;32m     11\u001b[0m \u001b[38;5;28mprint\u001b[39m(\u001b[38;5;124m'\u001b[39m\u001b[38;5;124mmatplotlib:\u001b[39m\u001b[38;5;124m'\u001b[39m,matplotlib\u001b[38;5;241m.\u001b[39m__version__)\n\u001b[0;32m---> 13\u001b[0m mn\u001b[38;5;241m.\u001b[39mmatrix(df)\n\u001b[1;32m     14\u001b[0m plt\u001b[38;5;241m.\u001b[39mtitle(\u001b[38;5;124m\"\u001b[39m\u001b[38;5;124mNot Sorted\u001b[39m\u001b[38;5;124m\"\u001b[39m,fontsize\u001b[38;5;241m=\u001b[39m\u001b[38;5;241m22\u001b[39m)\n\u001b[1;32m     16\u001b[0m plt\u001b[38;5;241m.\u001b[39mfigure()\n",
      "File \u001b[0;32m~/anaconda3/envs/002C_1242/lib/python3.11/site-packages/missingno/missingno.py:72\u001b[0m, in \u001b[0;36mmatrix\u001b[0;34m(df, filter, n, p, sort, figsize, width_ratios, color, fontsize, labels, sparkline, inline, freq, ax)\u001b[0m\n\u001b[1;32m     70\u001b[0m \u001b[38;5;66;03m# Remove extraneous default visual elements.\u001b[39;00m\n\u001b[1;32m     71\u001b[0m ax0\u001b[38;5;241m.\u001b[39mset_aspect(\u001b[38;5;124m'\u001b[39m\u001b[38;5;124mauto\u001b[39m\u001b[38;5;124m'\u001b[39m)\n\u001b[0;32m---> 72\u001b[0m ax0\u001b[38;5;241m.\u001b[39mgrid(b\u001b[38;5;241m=\u001b[39m\u001b[38;5;28;01mFalse\u001b[39;00m)\n\u001b[1;32m     73\u001b[0m ax0\u001b[38;5;241m.\u001b[39mxaxis\u001b[38;5;241m.\u001b[39mtick_top()\n\u001b[1;32m     74\u001b[0m ax0\u001b[38;5;241m.\u001b[39mxaxis\u001b[38;5;241m.\u001b[39mset_ticks_position(\u001b[38;5;124m'\u001b[39m\u001b[38;5;124mnone\u001b[39m\u001b[38;5;124m'\u001b[39m)\n",
      "File \u001b[0;32m~/anaconda3/envs/002C_1242/lib/python3.11/site-packages/matplotlib/axes/_base.py:3196\u001b[0m, in \u001b[0;36m_AxesBase.grid\u001b[0;34m(self, visible, which, axis, **kwargs)\u001b[0m\n\u001b[1;32m   3194\u001b[0m _api\u001b[38;5;241m.\u001b[39mcheck_in_list([\u001b[38;5;124m'\u001b[39m\u001b[38;5;124mx\u001b[39m\u001b[38;5;124m'\u001b[39m, \u001b[38;5;124m'\u001b[39m\u001b[38;5;124my\u001b[39m\u001b[38;5;124m'\u001b[39m, \u001b[38;5;124m'\u001b[39m\u001b[38;5;124mboth\u001b[39m\u001b[38;5;124m'\u001b[39m], axis\u001b[38;5;241m=\u001b[39maxis)\n\u001b[1;32m   3195\u001b[0m \u001b[38;5;28;01mif\u001b[39;00m axis \u001b[38;5;129;01min\u001b[39;00m [\u001b[38;5;124m'\u001b[39m\u001b[38;5;124mx\u001b[39m\u001b[38;5;124m'\u001b[39m, \u001b[38;5;124m'\u001b[39m\u001b[38;5;124mboth\u001b[39m\u001b[38;5;124m'\u001b[39m]:\n\u001b[0;32m-> 3196\u001b[0m     \u001b[38;5;28mself\u001b[39m\u001b[38;5;241m.\u001b[39mxaxis\u001b[38;5;241m.\u001b[39mgrid(visible, which\u001b[38;5;241m=\u001b[39mwhich, \u001b[38;5;241m*\u001b[39m\u001b[38;5;241m*\u001b[39mkwargs)\n\u001b[1;32m   3197\u001b[0m \u001b[38;5;28;01mif\u001b[39;00m axis \u001b[38;5;129;01min\u001b[39;00m [\u001b[38;5;124m'\u001b[39m\u001b[38;5;124my\u001b[39m\u001b[38;5;124m'\u001b[39m, \u001b[38;5;124m'\u001b[39m\u001b[38;5;124mboth\u001b[39m\u001b[38;5;124m'\u001b[39m]:\n\u001b[1;32m   3198\u001b[0m     \u001b[38;5;28mself\u001b[39m\u001b[38;5;241m.\u001b[39myaxis\u001b[38;5;241m.\u001b[39mgrid(visible, which\u001b[38;5;241m=\u001b[39mwhich, \u001b[38;5;241m*\u001b[39m\u001b[38;5;241m*\u001b[39mkwargs)\n",
      "File \u001b[0;32m~/anaconda3/envs/002C_1242/lib/python3.11/site-packages/matplotlib/axis.py:1697\u001b[0m, in \u001b[0;36mAxis.grid\u001b[0;34m(self, visible, which, **kwargs)\u001b[0m\n\u001b[1;32m   1694\u001b[0m \u001b[38;5;28;01mif\u001b[39;00m which \u001b[38;5;129;01min\u001b[39;00m [\u001b[38;5;124m'\u001b[39m\u001b[38;5;124mmajor\u001b[39m\u001b[38;5;124m'\u001b[39m, \u001b[38;5;124m'\u001b[39m\u001b[38;5;124mboth\u001b[39m\u001b[38;5;124m'\u001b[39m]:\n\u001b[1;32m   1695\u001b[0m     gridkw[\u001b[38;5;124m'\u001b[39m\u001b[38;5;124mgridOn\u001b[39m\u001b[38;5;124m'\u001b[39m] \u001b[38;5;241m=\u001b[39m (\u001b[38;5;129;01mnot\u001b[39;00m \u001b[38;5;28mself\u001b[39m\u001b[38;5;241m.\u001b[39m_major_tick_kw[\u001b[38;5;124m'\u001b[39m\u001b[38;5;124mgridOn\u001b[39m\u001b[38;5;124m'\u001b[39m]\n\u001b[1;32m   1696\u001b[0m                         \u001b[38;5;28;01mif\u001b[39;00m visible \u001b[38;5;129;01mis\u001b[39;00m \u001b[38;5;28;01mNone\u001b[39;00m \u001b[38;5;28;01melse\u001b[39;00m visible)\n\u001b[0;32m-> 1697\u001b[0m     \u001b[38;5;28mself\u001b[39m\u001b[38;5;241m.\u001b[39mset_tick_params(which\u001b[38;5;241m=\u001b[39m\u001b[38;5;124m'\u001b[39m\u001b[38;5;124mmajor\u001b[39m\u001b[38;5;124m'\u001b[39m, \u001b[38;5;241m*\u001b[39m\u001b[38;5;241m*\u001b[39mgridkw)\n\u001b[1;32m   1698\u001b[0m \u001b[38;5;28mself\u001b[39m\u001b[38;5;241m.\u001b[39mstale \u001b[38;5;241m=\u001b[39m \u001b[38;5;28;01mTrue\u001b[39;00m\n",
      "File \u001b[0;32m~/anaconda3/envs/002C_1242/lib/python3.11/site-packages/matplotlib/axis.py:958\u001b[0m, in \u001b[0;36mAxis.set_tick_params\u001b[0;34m(self, which, reset, **kwargs)\u001b[0m\n\u001b[1;32m    945\u001b[0m \u001b[38;5;250m\u001b[39m\u001b[38;5;124;03m\"\"\"\u001b[39;00m\n\u001b[1;32m    946\u001b[0m \u001b[38;5;124;03mSet appearance parameters for ticks, ticklabels, and gridlines.\u001b[39;00m\n\u001b[1;32m    947\u001b[0m \n\u001b[0;32m   (...)\u001b[0m\n\u001b[1;32m    955\u001b[0m \u001b[38;5;124;03m    gridlines.\u001b[39;00m\n\u001b[1;32m    956\u001b[0m \u001b[38;5;124;03m\"\"\"\u001b[39;00m\n\u001b[1;32m    957\u001b[0m _api\u001b[38;5;241m.\u001b[39mcheck_in_list([\u001b[38;5;124m'\u001b[39m\u001b[38;5;124mmajor\u001b[39m\u001b[38;5;124m'\u001b[39m, \u001b[38;5;124m'\u001b[39m\u001b[38;5;124mminor\u001b[39m\u001b[38;5;124m'\u001b[39m, \u001b[38;5;124m'\u001b[39m\u001b[38;5;124mboth\u001b[39m\u001b[38;5;124m'\u001b[39m], which\u001b[38;5;241m=\u001b[39mwhich)\n\u001b[0;32m--> 958\u001b[0m kwtrans \u001b[38;5;241m=\u001b[39m \u001b[38;5;28mself\u001b[39m\u001b[38;5;241m.\u001b[39m_translate_tick_params(kwargs)\n\u001b[1;32m    960\u001b[0m \u001b[38;5;66;03m# the kwargs are stored in self._major/minor_tick_kw so that any\u001b[39;00m\n\u001b[1;32m    961\u001b[0m \u001b[38;5;66;03m# future new ticks will automatically get them\u001b[39;00m\n\u001b[1;32m    962\u001b[0m \u001b[38;5;28;01mif\u001b[39;00m reset:\n",
      "File \u001b[0;32m~/anaconda3/envs/002C_1242/lib/python3.11/site-packages/matplotlib/axis.py:1102\u001b[0m, in \u001b[0;36mAxis._translate_tick_params\u001b[0;34m(kw, reverse)\u001b[0m\n\u001b[1;32m   1100\u001b[0m \u001b[38;5;28;01mfor\u001b[39;00m key \u001b[38;5;129;01min\u001b[39;00m kw_:\n\u001b[1;32m   1101\u001b[0m     \u001b[38;5;28;01mif\u001b[39;00m key \u001b[38;5;129;01mnot\u001b[39;00m \u001b[38;5;129;01min\u001b[39;00m allowed_keys:\n\u001b[0;32m-> 1102\u001b[0m         \u001b[38;5;28;01mraise\u001b[39;00m \u001b[38;5;167;01mValueError\u001b[39;00m(\n\u001b[1;32m   1103\u001b[0m             \u001b[38;5;124m\"\u001b[39m\u001b[38;5;124mkeyword \u001b[39m\u001b[38;5;132;01m%s\u001b[39;00m\u001b[38;5;124m is not recognized; valid keywords are \u001b[39m\u001b[38;5;132;01m%s\u001b[39;00m\u001b[38;5;124m\"\u001b[39m\n\u001b[1;32m   1104\u001b[0m             \u001b[38;5;241m%\u001b[39m (key, allowed_keys))\n\u001b[1;32m   1105\u001b[0m kwtrans\u001b[38;5;241m.\u001b[39mupdate(kw_)\n\u001b[1;32m   1106\u001b[0m \u001b[38;5;28;01mreturn\u001b[39;00m kwtrans\n",
      "\u001b[0;31mValueError\u001b[0m: keyword grid_b is not recognized; valid keywords are ['size', 'width', 'color', 'tickdir', 'pad', 'labelsize', 'labelcolor', 'labelfontfamily', 'zorder', 'gridOn', 'tick1On', 'tick2On', 'label1On', 'label2On', 'length', 'direction', 'left', 'bottom', 'right', 'top', 'labelleft', 'labelbottom', 'labelright', 'labeltop', 'labelrotation', 'grid_agg_filter', 'grid_alpha', 'grid_animated', 'grid_antialiased', 'grid_clip_box', 'grid_clip_on', 'grid_clip_path', 'grid_color', 'grid_dash_capstyle', 'grid_dash_joinstyle', 'grid_dashes', 'grid_data', 'grid_drawstyle', 'grid_figure', 'grid_fillstyle', 'grid_gapcolor', 'grid_gid', 'grid_in_layout', 'grid_label', 'grid_linestyle', 'grid_linewidth', 'grid_marker', 'grid_markeredgecolor', 'grid_markeredgewidth', 'grid_markerfacecolor', 'grid_markerfacecoloralt', 'grid_markersize', 'grid_markevery', 'grid_mouseover', 'grid_path_effects', 'grid_picker', 'grid_pickradius', 'grid_rasterized', 'grid_sketch_params', 'grid_snap', 'grid_solid_capstyle', 'grid_solid_joinstyle', 'grid_transform', 'grid_url', 'grid_visible', 'grid_xdata', 'grid_ydata', 'grid_zorder', 'grid_aa', 'grid_c', 'grid_ds', 'grid_ls', 'grid_lw', 'grid_mec', 'grid_mew', 'grid_mfc', 'grid_mfcalt', 'grid_ms']"
     ]
    },
    {
     "data": {
      "image/png": "[encoded data removed]",
      "text/plain": [
       "<Figure size 2500x1000 with 2 Axes>"
      ]
     },
     "metadata": {},
     "output_type": "display_data"
    }
   ],
   "source": [
    "# this python magics will allow plot to be embedded into the notebook\n",
    "import matplotlib\n",
    "import matplotlib.pyplot as plt\n",
    "import warnings\n",
    "warnings.simplefilter('ignore', DeprecationWarning)\n",
    "%matplotlib inline \n",
    "\n",
    "# External package: conda install missingno \n",
    "import missingno as mn\n",
    "\n",
    "print('matplotlib:',matplotlib.__version__)\n",
    "\n",
    "mn.matrix(df)\n",
    "plt.title(\"Not Sorted\",fontsize=22)\n",
    "\n",
    "plt.figure()\n",
    "mn.matrix(df.sort_values(by=[\"Cabin\",\"Age\"]))\n",
    "plt.title(\"Sorted\",fontsize=22)\n",
    "plt.show()"
   ]
  },
  {
   "cell_type": "code",
   "execution_count": null,
   "id": "ea6f55eb-5c5a-445d-9587-fe94f3659bb2",
   "metadata": {},
   "outputs": [],
   "source": [
    "df.info()"
   ]
  },
  {
   "cell_type": "code",
   "execution_count": null,
   "id": "6136f29f-a325-4628-bc7d-c4715755b3b6",
   "metadata": {},
   "outputs": [],
   "source": [
    "number_of_bins = 25\n",
    "bins = np.linspace(0, 15000, number_of_bins + 1)  # +1 because we need number_of_bins edges\n",
    "\n",
    "# Labels for each bin\n",
    "labels = [str(i) for i in range(1, number_of_bins + 1)]\n",
    "\n",
    "df['weight_range'] = pd.cut(df['weight'], bins=bins, labels=labels, include_lowest=True)\n",
    "df.weight_range.describe()\n",
    "\n",
    "# Count the occurrences in each range\n",
    "weight_range_counts = df['weight_range'].value_counts()\n",
    "\n",
    "# Sort the counts by index (for consistent ordering)\n",
    "weight_range_counts = weight_range_counts.sort_index()\n",
    "\n",
    "# Plotting\n",
    "plt.bar(weight_range_counts.index, weight_range_counts.values)\n",
    "plt.xlabel('Weight Range')\n",
    "plt.ylabel('Count')\n",
    "plt.title('Distribution of Weights')\n",
    "plt.show()"
   ]
  },
  {
   "cell_type": "code",
   "execution_count": null,
   "id": "0358c32c-90f9-4de3-b535-e97422fbb72e",
   "metadata": {},
   "outputs": [],
   "source": [
    "df.info()"
   ]
  },
  {
   "cell_type": "code",
   "execution_count": null,
   "id": "b4a4ecd6-bb2e-40ea-8188-a291754c0417",
   "metadata": {},
   "outputs": [],
   "source": [
    "\n",
    "number_of_bins = 10\n",
    "bins = np.linspace(0, 100, number_of_bins + 1)  # +1 because we need number_of_bins edges\n",
    "\n",
    "# Labels for each bin\n",
    "labels = [str(i) for i in range(1, number_of_bins + 1)]\n",
    "\n",
    "df['carrier_charge_range'] = pd.cut(df['carrier_charge'], bins=bins, labels=labels, include_lowest=True)\n",
    "df.weight_range.describe()\n",
    "\n",
    "# Count the occurrences in each range\n",
    "weight_range_counts = df['weight_range'].value_counts()\n",
    "\n",
    "# Sort the counts by index (for consistent ordering)\n",
    "weight_range_counts = weight_range_counts.sort_index()\n",
    "\n",
    "# Plotting\n",
    "plt.bar(weight_range_counts.index, weight_range_counts.values)\n",
    "plt.xlabel('Carrier Charge Range')\n",
    "plt.ylabel('Count')\n",
    "plt.title('Distribution of Carrier Charge')\n",
    "plt.show()"
   ]
  },
  {
   "cell_type": "code",
   "execution_count": null,
   "id": "0a43a2ed-6b96-4061-a35c-ede6b5568ed7",
   "metadata": {},
   "outputs": [],
   "source": [
    "df.info()"
   ]
  },
  {
   "cell_type": "code",
   "execution_count": null,
   "id": "330ae95a-76ca-4e64-a3c2-668328b36604",
   "metadata": {},
   "outputs": [],
   "source": []
  }
 ],
 "metadata": {
  "kernelspec": {
   "display_name": "Python (002C_1242)",
   "language": "python",
   "name": "002c_1242"
  },
  "language_info": {
   "codemirror_mode": {
    "name": "ipython",
    "version": 3
   },
   "file_extension": ".py",
   "mimetype": "text/x-python",
   "name": "python",
   "nbconvert_exporter": "python",
   "pygments_lexer": "ipython3",
   "version": "3.11.7"
  }
 },
 "nbformat": 4,
 "nbformat_minor": 5
}
